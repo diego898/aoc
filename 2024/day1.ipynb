{
 "cells": [
  {
   "cell_type": "markdown",
   "metadata": {},
   "source": [
    "# Day 1\n",
    "\n",
    "## Puzzle 1\n",
    "https://adventofcode.com/2024/day/1\n",
    "\n",
    "This puzzle has us subtracting the minimums from two lists of numbers and then adding up these distances to get a total distance.\n",
    "\n",
    "Im going to use a minheap from pythond `heapq` library:"
   ]
  },
  {
   "cell_type": "code",
   "execution_count": null,
   "metadata": {},
   "outputs": [],
   "source": [
    "import heapq\n",
    "heap1 = []\n",
    "heap2 = []\n",
    "\n",
    "with open('day1_input.txt', 'r') as file:\n",
    "    for line in file:\n",
    "        col1, col2 = map(int, line.split())\n",
    "    \n",
    "        heapq.heappush(heap1, col1)\n",
    "        heapq.heappush(heap2, col2)"
   ]
  },
  {
   "cell_type": "markdown",
   "metadata": {},
   "source": [
    "Now we can just pop the smallest number from each list and add the difference to the total distance."
   ]
  },
  {
   "cell_type": "code",
   "execution_count": null,
   "metadata": {},
   "outputs": [],
   "source": [
    "distance = 0\n",
    "while heap1 or heap2:\n",
    "    distance += abs(heapq.heappop(heap1) - heapq.heappop(heap2))\n",
    "distance"
   ]
  },
  {
   "cell_type": "markdown",
   "metadata": {},
   "source": [
    "## Puzzle 2\n",
    "\n",
    "Now were using the two lists differently - kind of like a lookup:\n",
    "\n",
    "\n",
    "Here are the same example lists again:\n",
    "```\n",
    "3   4\n",
    "4   3\n",
    "2   5\n",
    "1   3\n",
    "3   9\n",
    "3   3\n",
    "```\n",
    "\n",
    "For these example lists, here is the process of finding the similarity score:\n",
    "\n",
    "- The first number in the left list is 3. It appears in the right list three times, so the similarity score increases by 3 * 3 = 9.\n",
    "- The second number in the left list is 4. It appears in the right list once, so the similarity score increases by 4 * 1 = 4.\n",
    "- The third number in the left list is 2. It does not appear in the right list, so the similarity score does not increase (2 * 0 = 0).\n",
    "- The fourth number, 1, also does not appear in the right list.\n",
    "- The fifth number, 3, appears in the right list three times; the similarity score increases by 9.\n",
    "- The last number, 3, appears in the right list three times; the similarity score again increases by 9.\n",
    "\n",
    "So, for these example lists, the similarity score at the end of this process is 31 (9 + 4 + 0 + 0 + 9 + 9)."
   ]
  },
  {
   "cell_type": "markdown",
   "metadata": {},
   "source": [
    "First idea was to just read both in as lists, go through the first list, search entire second list every time, etc. But we just got done using minheaps above, so lets use them again - can rewrite the above process so as to not have to re-import/create them again, but for now lets just keep each one self-contained."
   ]
  },
  {
   "cell_type": "code",
   "execution_count": null,
   "metadata": {},
   "outputs": [],
   "source": [
    "import heapq\n",
    "heap1 = []\n",
    "heap2 = []\n",
    "\n",
    "with open('day1_input.txt', 'r') as file:\n",
    "    for line in file:\n",
    "        col1, col2 = map(int, line.split())\n",
    "    \n",
    "        heapq.heappush(heap1, col1)\n",
    "        heapq.heappush(heap2, col2)\n",
    "\n",
    "matches = similarity_score = 0\n",
    "value_to_find = heapq.heappop(heap1)\n",
    "candidate = heapq.heappop(heap2)\n",
    "value_to_find, candidate"
   ]
  },
  {
   "cell_type": "markdown",
   "metadata": {},
   "source": [
    "Now we have two sorted heaps. Lets go through the first one:"
   ]
  },
  {
   "cell_type": "code",
   "execution_count": 2,
   "metadata": {},
   "outputs": [
    {
     "data": {
      "text/plain": [
       "839162106"
      ]
     },
     "execution_count": 2,
     "metadata": {},
     "output_type": "execute_result"
    }
   ],
   "source": [
    "import logging\n",
    "logging.basicConfig(level=logging.DEBUG)\n",
    "logger = logging.getLogger()\n",
    "\n",
    "while heap1 and heap2:\n",
    "    while heap2 and candidate < value_to_find:\n",
    "        candidate = heapq.heappop(heap2)\n",
    "        logger.debug(f\"Candidate to small: {candidate=}, {value_to_find=}\")\n",
    "        similarity_score += 0 # not needed but for clarity\n",
    "\n",
    "    if heap1 and candidate > value_to_find:\n",
    "        # value_to_find is not in heap2\n",
    "        logger.debug(f\"Candidate too big: {candidate=}, {value_to_find=}\")\n",
    "        \n",
    "        # add similarity score\n",
    "        similarity_score += value_to_find * matches\n",
    "        logger.debug(f\"Incrementing sim score: {similarity_score}, {value_to_find=}, {matches=}\")\n",
    "        \n",
    "        # reset matches\n",
    "        matches = 0\n",
    "\n",
    "        # move on to next value\n",
    "        value_to_find = heapq.heappop(heap1)\n",
    "        logger.debug(f\"New value to find: {value_to_find}\")\n",
    "        continue\n",
    "\n",
    "    # value_to_find is in heap2\n",
    "    logger.debug(f\"Match: {candidate=}, {value_to_find=}\")\n",
    "    matches += 1\n",
    "    \n",
    "\n",
    "    if heap2:\n",
    "        candidate = heapq.heappop(heap2)\n",
    "        logger.debug(f\"Matches: {matches}, new candidate: {candidate}\")\n",
    "    \n",
    "similarity_score"
   ]
  },
  {
   "cell_type": "markdown",
   "metadata": {},
   "source": [
    "This was my version - I asked chatgpt to clean it up but not too impressed - let me try (copilot kind of helped but not really lol)"
   ]
  },
  {
   "cell_type": "code",
   "execution_count": 1,
   "metadata": {},
   "outputs": [
    {
     "data": {
      "text/plain": [
       "839162106"
      ]
     },
     "execution_count": 1,
     "metadata": {},
     "output_type": "execute_result"
    }
   ],
   "source": [
    "import heapq\n",
    "heap1 = []\n",
    "heap2 = []\n",
    "\n",
    "with open('day1_input.txt', 'r') as file:\n",
    "    for line in file:\n",
    "        col1, col2 = map(int, line.split())\n",
    "    \n",
    "        heapq.heappush(heap1, col1)\n",
    "        heapq.heappush(heap2, col2)\n",
    "\n",
    "matches = similarity_score = 0\n",
    "\n",
    "while heap1:\n",
    "    value_to_find = heapq.heappop(heap1)\n",
    "    while heap2:\n",
    "        candidate = heapq.heappop(heap2)\n",
    "        if candidate == value_to_find:\n",
    "            matches += 1\n",
    "        elif candidate > value_to_find:\n",
    "            # move on to next value_to_find\n",
    "            break\n",
    "        else:\n",
    "            # move on to next candidate\n",
    "            continue\n",
    "    similarity_score += value_to_find * matches\n",
    "similarity_score"
   ]
  },
  {
   "cell_type": "code",
   "execution_count": null,
   "metadata": {},
   "outputs": [],
   "source": []
  }
 ],
 "metadata": {
  "kernelspec": {
   "display_name": "aoc-2024-z8hdT0vu-py3.10",
   "language": "python",
   "name": "python3"
  },
  "language_info": {
   "codemirror_mode": {
    "name": "ipython",
    "version": 3
   },
   "file_extension": ".py",
   "mimetype": "text/x-python",
   "name": "python",
   "nbconvert_exporter": "python",
   "pygments_lexer": "ipython3",
   "version": "3.10.15"
  }
 },
 "nbformat": 4,
 "nbformat_minor": 2
}
