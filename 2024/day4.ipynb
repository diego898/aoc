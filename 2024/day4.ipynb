{
 "cells": [
  {
   "cell_type": "markdown",
   "metadata": {},
   "source": [
    "# Day 4"
   ]
  },
  {
   "cell_type": "markdown",
   "metadata": {},
   "source": [
    "## Problem 1\n",
    "\n",
    "A standard 2D board/word-search type problem"
   ]
  },
  {
   "cell_type": "code",
   "execution_count": 1,
   "metadata": {},
   "outputs": [],
   "source": [
    "WORD = \"XMAS\"\n",
    "\n",
    "# possible directions\n",
    "directions = [\n",
    "    # row, column\n",
    "    (-1, -1),  # top left\n",
    "    (-1, 0),  # top\n",
    "    (-1, 1),  # top right\n",
    "    (0, -1),  # left\n",
    "    (0, 1),  # right\n",
    "    (1, -1),  # bottom left\n",
    "    (1, 0),  # bottom\n",
    "    (1, 1),  # bottom right\n",
    "]\n",
    "\n",
    "\n",
    "def visit(position, partial, direction, board):\n",
    "    # unpack position\n",
    "    row, col = position\n",
    "    row_delta, col_delta = direction\n",
    "\n",
    "    # base case\n",
    "    if partial == WORD:\n",
    "        return 1\n",
    "\n",
    "    # check out of bounds\n",
    "    if row < 0 or row >= len(board):\n",
    "        return 0\n",
    "    if col < 0 or col >= len(board[0]):\n",
    "        return 0\n",
    "\n",
    "    # we can continue looking for the next letter\n",
    "    looking_for = WORD[len(partial)]\n",
    "\n",
    "    # check if we found the next letter\n",
    "    if board[row][col] == looking_for:\n",
    "        # continue in the same direction\n",
    "        return visit(\n",
    "            position=(row + row_delta, col + col_delta),\n",
    "            partial=partial + looking_for,  # lock in the next letter\n",
    "            direction=direction,\n",
    "            board=board,\n",
    "        )\n",
    "    else:\n",
    "        return 0\n",
    "\n",
    "\n",
    "def p1(board):\n",
    "    sum = 0\n",
    "    # for each row\n",
    "    for i, row in enumerate(board):\n",
    "        # for each col (and letter)\n",
    "        for j, letter in enumerate(row):\n",
    "            # if its the first letter of the word\n",
    "            if letter == WORD[0]:\n",
    "                # check all directions for the next letter\n",
    "                for direction in directions:\n",
    "                    row_delta, col_delta = direction\n",
    "                    sum += visit(\n",
    "                        position=(i + row_delta, j + col_delta),\n",
    "                        partial=WORD[0],  # we've locked in the first letter\n",
    "                        direction=direction,\n",
    "                        board=board,\n",
    "                    )\n",
    "    return sum"
   ]
  },
  {
   "cell_type": "markdown",
   "metadata": {},
   "source": [
    "### Example"
   ]
  },
  {
   "cell_type": "code",
   "execution_count": 2,
   "metadata": {},
   "outputs": [
    {
     "data": {
      "text/plain": [
       "4"
      ]
     },
     "execution_count": 2,
     "metadata": {},
     "output_type": "execute_result"
    }
   ],
   "source": [
    "board = []\n",
    "with open(\"./data/day4_small_input_p1.txt\") as f:\n",
    "    for line in f:\n",
    "        board.append(line.strip())\n",
    "p1(board)"
   ]
  },
  {
   "cell_type": "markdown",
   "metadata": {},
   "source": [
    "### Full Problem"
   ]
  },
  {
   "cell_type": "code",
   "execution_count": 3,
   "metadata": {},
   "outputs": [
    {
     "data": {
      "text/plain": [
       "2536"
      ]
     },
     "execution_count": 3,
     "metadata": {},
     "output_type": "execute_result"
    }
   ],
   "source": [
    "board = []\n",
    "with open(\"./data/day4_input.txt\") as f:\n",
    "    for line in f:\n",
    "        board.append(line.strip())\n",
    "p1(board)"
   ]
  },
  {
   "cell_type": "markdown",
   "metadata": {},
   "source": [
    "## Problem 2"
   ]
  },
  {
   "cell_type": "markdown",
   "metadata": {},
   "source": [
    "This problem actually tries to find two `MAS` that  cross - like:\n",
    "\n",
    "```\n",
    "M.S\n",
    ".A.\n",
    "M.S\n",
    "```"
   ]
  },
  {
   "cell_type": "markdown",
   "metadata": {},
   "source": [
    "My first thoughts:\n",
    "\n",
    "- Search for all `MAS`, and then somehow intersect them to find the crossing ones? May be able to reuse code from above and just write an intersection piece to cut down on matches.\n",
    "- Another approach is to start mostly fresh and search for an `A`, and then just check its diagonals...\n",
    "\n",
    "Lets try the first approach since I think the idea is to try and reuse code in advent of code."
   ]
  },
  {
   "cell_type": "code",
   "execution_count": 4,
   "metadata": {},
   "outputs": [
    {
     "data": {
      "text/plain": [
       "20"
      ]
     },
     "execution_count": 4,
     "metadata": {},
     "output_type": "execute_result"
    }
   ],
   "source": [
    "WORD = \"MAS\"\n",
    "board = []\n",
    "with open(\"./data/day4_small_input_p2.txt\") as f:\n",
    "    for line in f:\n",
    "        board.append(line.strip())\n",
    "p1(board)"
   ]
  },
  {
   "cell_type": "markdown",
   "metadata": {},
   "source": [
    "`20` is correct for just full `matches` we now need to trim them down to `crosses`.\n",
    "\n",
    "Actually...instead of just using `p1` and then scanning board again... lets just modify it directly.\n",
    "\n",
    "The new idea is to instead change our directions of search to only include diagonals. When I find a diagonal, I'll add the position of its `A` to a dict with the number of matches its involved in. Then I'll just check the dict for any positions with a value of `2` and include them in the sum."
   ]
  },
  {
   "cell_type": "code",
   "execution_count": 5,
   "metadata": {},
   "outputs": [],
   "source": [
    "from collections import defaultdict\n",
    "\n",
    "\n",
    "WORD = \"MAS\"\n",
    "\n",
    "# possible directions\n",
    "directions = [\n",
    "    # row, column\n",
    "    (-1, -1),  # top left\n",
    "    (-1, 1),  # top right\n",
    "    (1, -1),  # bottom left\n",
    "    (1, 1),  # bottom right\n",
    "]\n",
    "\n",
    "\n",
    "def visit_p2(position, partial, direction, board, matches):\n",
    "    # unpack position\n",
    "    row, col = position\n",
    "    row_delta, col_delta = direction\n",
    "\n",
    "    # base case\n",
    "    if partial == WORD:\n",
    "        # needed to debug to work out its two steps back direction\n",
    "        # print(f\"Found {WORD} it ends at: {row-row_delta} and {col-col_delta}\")\n",
    "        # print(f\"  Saving A at {row-row_delta-row_delta} and {col-col_delta-col_delta}\")\n",
    "        # location of A:\n",
    "        loc_A = (row - row_delta - row_delta, col - col_delta - col_delta)\n",
    "        matches[loc_A] += 1\n",
    "        return\n",
    "\n",
    "    # check out of bounds\n",
    "    if row < 0 or row >= len(board):\n",
    "        return\n",
    "    if col < 0 or col >= len(board[0]):\n",
    "        return\n",
    "\n",
    "    # we can continue looking for the next letter\n",
    "    looking_for = WORD[len(partial)]\n",
    "\n",
    "    # check if we found the next letter\n",
    "    if board[row][col] == looking_for:\n",
    "        # continue in the same direction\n",
    "        visit_p2(\n",
    "            position=(row + row_delta, col + col_delta),\n",
    "            partial=partial + looking_for,  # lock in the next letter\n",
    "            direction=direction,\n",
    "            board=board,\n",
    "            matches=matches,\n",
    "        )\n",
    "    else:\n",
    "        return\n",
    "\n",
    "\n",
    "def p2(board):\n",
    "    matches = defaultdict(int)  # automatically initializes missing keys to 0\n",
    "\n",
    "    # for each row\n",
    "    for i, row in enumerate(board):\n",
    "        # for each col (and letter)\n",
    "        for j, letter in enumerate(row):\n",
    "            # if its the first letter of the word\n",
    "            if letter == WORD[0]:\n",
    "                # check all directions for the next letter\n",
    "                for direction in directions:\n",
    "                    row_delta, col_delta = direction\n",
    "                    visit_p2(\n",
    "                        position=(i + row_delta, j + col_delta),\n",
    "                        partial=WORD[0],  # we've locked in the first letter\n",
    "                        direction=direction,\n",
    "                        board=board,\n",
    "                        matches=matches,\n",
    "                    )\n",
    "\n",
    "    sum = 0\n",
    "    for k, v in matches.items():\n",
    "        if v >= 2:\n",
    "            sum += 1\n",
    "    return sum"
   ]
  },
  {
   "cell_type": "markdown",
   "metadata": {},
   "source": [
    "### Example"
   ]
  },
  {
   "cell_type": "code",
   "execution_count": 6,
   "metadata": {},
   "outputs": [
    {
     "data": {
      "text/plain": [
       "9"
      ]
     },
     "execution_count": 6,
     "metadata": {},
     "output_type": "execute_result"
    }
   ],
   "source": [
    "WORD = \"MAS\"\n",
    "board = []\n",
    "with open(\"./data/day4_small_input_p2.txt\") as f:\n",
    "    for line in f:\n",
    "        board.append(line.strip())\n",
    "p2(board)"
   ]
  },
  {
   "cell_type": "markdown",
   "metadata": {},
   "source": [
    "### Full Problem"
   ]
  },
  {
   "cell_type": "code",
   "execution_count": 7,
   "metadata": {},
   "outputs": [
    {
     "data": {
      "text/plain": [
       "1875"
      ]
     },
     "execution_count": 7,
     "metadata": {},
     "output_type": "execute_result"
    }
   ],
   "source": [
    "WORD = \"MAS\"\n",
    "board = []\n",
    "with open(\"./data/day4_input.txt\") as f:\n",
    "    for line in f:\n",
    "        board.append(line.strip())\n",
    "p2(board)"
   ]
  }
 ],
 "metadata": {
  "kernelspec": {
   "display_name": "aoc-2024-z8hdT0vu-py3.10",
   "language": "python",
   "name": "python3"
  },
  "language_info": {
   "codemirror_mode": {
    "name": "ipython",
    "version": 3
   },
   "file_extension": ".py",
   "mimetype": "text/x-python",
   "name": "python",
   "nbconvert_exporter": "python",
   "pygments_lexer": "ipython3",
   "version": "3.10.15"
  }
 },
 "nbformat": 4,
 "nbformat_minor": 2
}
