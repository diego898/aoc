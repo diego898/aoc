{
 "cells": [
  {
   "cell_type": "markdown",
   "metadata": {},
   "source": [
    "# Day 5"
   ]
  },
  {
   "cell_type": "markdown",
   "metadata": {},
   "source": [
    "## Problem 1"
   ]
  },
  {
   "cell_type": "markdown",
   "metadata": {},
   "source": [
    "Here, we're parsing a list of ordering rules, and then checking to see if a sequence follows all the rules"
   ]
  },
  {
   "cell_type": "markdown",
   "metadata": {},
   "source": [
    "Cant think of a good approach beyond just:\n",
    "\n",
    "- parse the list of rules into a dict. Key is number, value is list of rules its involved in.\n",
    "- for each rule, place it in two lists, one for the first number, one for the second number\n",
    "- for each sequece, get list of rules that pertain to it. (into set so its unique)\n",
    "- for each rule, scan sequence to see if it follows it.\n",
    "\n",
    "\n",
    "Not happy about this, there has to be a better way... \n",
    "\n",
    "I was thinking of just assigning characters/emojis to the numbers and the rules just specify an ordering, and then trying to create a minheap according to this ordering, etc. Unclear, just vague thoughts right now."
   ]
  },
  {
   "cell_type": "markdown",
   "metadata": {},
   "source": [
    "An idea is to treat the rules as a directed graph. Each rule is a directed edge from the first number to the second number. \n",
    "\n",
    "**Note**: This is a topological sorting problem - weak area for me"
   ]
  },
  {
   "cell_type": "markdown",
   "metadata": {},
   "source": [
    "**Note** - a key observation is that the rules are provided for every value AFTER a number. We arent meant to interpret them transitively. So if we have a rule, like `75|47`  and `47|61`, we dont need to infer that `75|61`. This is also given. \n",
    "\n",
    "This reminds me of stuff from discrete math that I cant now fully remember....\n",
    "\n",
    "Anyway, this lets us just check each value in the sequence against the rules where its on the LHS."
   ]
  },
  {
   "cell_type": "code",
   "execution_count": 1,
   "metadata": {},
   "outputs": [],
   "source": [
    "from collections import defaultdict\n",
    "\n",
    "\n",
    "def form_input(file):\n",
    "    rules, sequences = [], []\n",
    "\n",
    "    with open(file) as f:\n",
    "        file = f.read()\n",
    "\n",
    "    rules, sequences = file.split(\"\\n\\n\")\n",
    "    # re-form rules\n",
    "    rules = rules.split(\"\\n\")\n",
    "    # re-form sequences\n",
    "    sequences = [list(map(int, s.split(\",\"))) for s in sequences.split(\"\\n\")]\n",
    "\n",
    "    # form graph\n",
    "    graph = defaultdict(list)\n",
    "    for rule in rules:\n",
    "        # a before b\n",
    "        a, b = map(int, rule.split(\"|\"))\n",
    "        graph[a].append(b)\n",
    "\n",
    "    return rules, graph, sequences\n",
    "\n",
    "\n",
    "def validate(sequence, graph):\n",
    "    # for each page in the sequence\n",
    "    for idx, page_num in enumerate(sequence):\n",
    "        # iterate over the pages that come after it and make sure\n",
    "        for next_page in sequence[idx + 1 :]:\n",
    "            if next_page not in graph[page_num]:\n",
    "                return None\n",
    "    # all rules pass on this sequence\n",
    "    return sequence[len(sequence) // 2]\n",
    "\n",
    "\n",
    "def p1(sequences, graph):\n",
    "    sum = 0\n",
    "    for sequence in sequences:\n",
    "        if mid_num := validate(sequence, graph):\n",
    "            sum += mid_num\n",
    "    return sum"
   ]
  },
  {
   "cell_type": "markdown",
   "metadata": {},
   "source": [
    "### Example"
   ]
  },
  {
   "cell_type": "code",
   "execution_count": 2,
   "metadata": {},
   "outputs": [
    {
     "data": {
      "text/plain": [
       "143"
      ]
     },
     "execution_count": 2,
     "metadata": {},
     "output_type": "execute_result"
    }
   ],
   "source": [
    "rules, graph, sequences = form_input(\"./data/day5_small_input_p1.txt\")\n",
    "p1(sequences, graph)"
   ]
  },
  {
   "cell_type": "markdown",
   "metadata": {},
   "source": [
    "### Full Problem\n"
   ]
  },
  {
   "cell_type": "code",
   "execution_count": 3,
   "metadata": {},
   "outputs": [
    {
     "data": {
      "text/plain": [
       "6041"
      ]
     },
     "execution_count": 3,
     "metadata": {},
     "output_type": "execute_result"
    }
   ],
   "source": [
    "rules, graph, sequences = form_input(\"./data/day5_input.txt\")\n",
    "p1(sequences, graph)"
   ]
  },
  {
   "cell_type": "markdown",
   "metadata": {},
   "source": [
    "### Optimization\n",
    "\n",
    "This works, but of course is not ideal - Im going through subsequences for each element in the sequence! \n",
    "\n",
    "Another (better?) approach, is to iterate over the graph itself:"
   ]
  },
  {
   "cell_type": "code",
   "execution_count": 4,
   "metadata": {},
   "outputs": [],
   "source": [
    "def validate_by_graph(sequence, graph):\n",
    "    # precompute the position of each page in the sequence\n",
    "    position = {page: idx for idx, page in enumerate(sequence)}\n",
    "\n",
    "    # check all nodes in the graph (rules)\n",
    "    for node in graph:\n",
    "        for outgoing_node in graph[node]:\n",
    "            # if both this node and the outgoing_node are in the sequence\n",
    "            if node in position and outgoing_node in position:\n",
    "                # validate their order\n",
    "                if position[node] > position[outgoing_node]:\n",
    "                    return None  # invalid order\n",
    "\n",
    "    # If all edges are valid, return the middle page\n",
    "    return sequence[len(sequence) // 2]"
   ]
  },
  {
   "cell_type": "markdown",
   "metadata": {},
   "source": [
    "Lets take a quick look:"
   ]
  },
  {
   "cell_type": "code",
   "execution_count": 5,
   "metadata": {},
   "outputs": [
    {
     "name": "stdout",
     "output_type": "stream",
     "text": [
      "23\n",
      "None\n",
      "None\n"
     ]
    }
   ],
   "source": [
    "graph = {76: [23, 47], 23: [47], 47: []}\n",
    "print(validate_by_graph(sequence=[76, 23, 47], graph=graph))\n",
    "print(validate_by_graph(sequence=[76, 47, 23], graph=graph))\n",
    "print(validate_by_graph(sequence=[23, 47, 76], graph=graph))"
   ]
  },
  {
   "cell_type": "code",
   "execution_count": 6,
   "metadata": {},
   "outputs": [],
   "source": [
    "def p1_by_graph(sequences, graph):\n",
    "    sum = 0\n",
    "    for sequence in sequences:\n",
    "        if mid_num := validate_by_graph(sequence, graph):\n",
    "            sum += mid_num\n",
    "    return sum"
   ]
  },
  {
   "cell_type": "code",
   "execution_count": 7,
   "metadata": {},
   "outputs": [
    {
     "data": {
      "text/plain": [
       "143"
      ]
     },
     "execution_count": 7,
     "metadata": {},
     "output_type": "execute_result"
    }
   ],
   "source": [
    "rules, graph, sequences = form_input(\"./data/day5_small_input_p1.txt\")\n",
    "p1_by_graph(sequences, graph)"
   ]
  },
  {
   "cell_type": "code",
   "execution_count": 8,
   "metadata": {},
   "outputs": [
    {
     "data": {
      "text/plain": [
       "6041"
      ]
     },
     "execution_count": 8,
     "metadata": {},
     "output_type": "execute_result"
    }
   ],
   "source": [
    "rules, graph, sequences = form_input(\"./data/day5_input.txt\")\n",
    "p1_by_graph(sequences, graph)"
   ]
  },
  {
   "cell_type": "markdown",
   "metadata": {},
   "source": [
    "## Problem 2\n",
    "\n",
    "This is now correcting the incorrect samples, and returning the sum of middle values of the corrected sequences!\n",
    "\n",
    "So the idea here, is that for the incorrect sequences, we need to see which rules are involved, and then just...\n",
    "\n",
    "Actually had a strange idea - since we get all rules explicily and dont have to infer any, it seems we can just correct a sequenece by getting outgoing edges for each element, sorting them by length of the edges list, and thats the correct order? Feels like cheating..."
   ]
  },
  {
   "cell_type": "code",
   "execution_count": 9,
   "metadata": {},
   "outputs": [],
   "source": [
    "def correct_sequence(sequence, graph):\n",
    "    sub_graph = {}\n",
    "    for val in sequence:\n",
    "        # sub_graph[val] = len(graph[val]) # incorrect! see below!\n",
    "        sub_graph[val] = len(set(graph[val]) & set(sequence))\n",
    "\n",
    "    # sort the sub_graph by the number of outgoing edges\n",
    "    sorted_keys = sorted(sub_graph, key=lambda k: sub_graph[k], reverse=True)\n",
    "    return sorted_keys[len(sorted_keys) // 2]\n",
    "\n",
    "\n",
    "def p2(sequences, graph):\n",
    "    sum = 0\n",
    "    for sequence in sequences:\n",
    "        if not validate_by_graph(sequence, graph):\n",
    "            sum += correct_sequence(sequence, graph)\n",
    "    return sum"
   ]
  },
  {
   "cell_type": "code",
   "execution_count": 10,
   "metadata": {},
   "outputs": [
    {
     "data": {
      "text/plain": [
       "123"
      ]
     },
     "execution_count": 10,
     "metadata": {},
     "output_type": "execute_result"
    }
   ],
   "source": [
    "rules, graph, sequences = form_input(\"./data/day5_small_input_p1.txt\")\n",
    "p2(sequences, graph)"
   ]
  },
  {
   "cell_type": "code",
   "execution_count": 11,
   "metadata": {},
   "outputs": [
    {
     "data": {
      "text/plain": [
       "4884"
      ]
     },
     "execution_count": 11,
     "metadata": {},
     "output_type": "execute_result"
    }
   ],
   "source": [
    "rules, graph, sequences = form_input(\"./data/day5_input.txt\")\n",
    "p2(sequences, graph)"
   ]
  },
  {
   "cell_type": "markdown",
   "metadata": {},
   "source": [
    "### Error\n",
    "\n",
    "Note, previously I had:\n",
    "\n",
    "\n",
    "```python\n",
    "sub_graph[val] = len(graph[val]) # incorrect! see below!\n",
    "```\n",
    "\n",
    "This was incorrect! After debugging on a sequence like:\n",
    "\n",
    "```\n",
    "[19, 24, 74, 71, 22, 53, 16, 94, 95, 33, 27, 15, 54, 14, 87, 31, 13, 17, 89]\n",
    "```\n",
    "\n",
    "and the subgraphs of `19` and `74`, I realized several had edges of the same length - but not all are involved in this sequence! So instead, we just trim down the edge list to edges involved in the sequence, and then sort by length to get the correct order!"
   ]
  }
 ],
 "metadata": {
  "kernelspec": {
   "display_name": "aoc-2024-z8hdT0vu-py3.10",
   "language": "python",
   "name": "python3"
  },
  "language_info": {
   "codemirror_mode": {
    "name": "ipython",
    "version": 3
   },
   "file_extension": ".py",
   "mimetype": "text/x-python",
   "name": "python",
   "nbconvert_exporter": "python",
   "pygments_lexer": "ipython3",
   "version": "3.10.15"
  }
 },
 "nbformat": 4,
 "nbformat_minor": 2
}
