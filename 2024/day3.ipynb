{
 "cells": [
  {
   "cell_type": "markdown",
   "metadata": {},
   "source": [
    "# Day 3"
   ]
  },
  {
   "cell_type": "markdown",
   "metadata": {},
   "source": [
    "## Problem 1 \n",
    "\n",
    "Were recovering valid instructions amidst the corrupted data. The instructions are in the form of a string. Theres a standard way to do this kind of recursive parsing but is overkill for this question so just going simple."
   ]
  },
  {
   "cell_type": "code",
   "execution_count": 1,
   "metadata": {},
   "outputs": [
    {
     "data": {
      "text/plain": [
       "173517243"
      ]
     },
     "execution_count": 1,
     "metadata": {},
     "output_type": "execute_result"
    }
   ],
   "source": [
    "import logging\n",
    "import re\n",
    "logging.basicConfig(level=logging.DEBUG)\n",
    "logger = logging.getLogger()\n",
    "\n",
    "with open('./data/day3_input.txt') as f:\n",
    "    program = f.read().splitlines()\n",
    "\n",
    "PATTERN = r\"mul\\((\\d{1,3}),(\\d{1,3})\\)\"\n",
    "pattern = re.compile(PATTERN)\n",
    "\n",
    "def process_line(line):\n",
    "    match = pattern.findall(line)\n",
    "    return sum([int(a)* int(b) for a,b in match])\n",
    "\n",
    "\n",
    "running_sum = 0\n",
    "for line in program:\n",
    "    running_sum += process_line(line)\n",
    "\n",
    "running_sum"
   ]
  },
  {
   "cell_type": "markdown",
   "metadata": {},
   "source": [
    "## Problem 2\n",
    "\n",
    "Here we will parse `don't()` and `do()` instructions that enable our inclusion of `mult()` instructions.\n",
    "\n",
    "Ugh - we can reuse our function above, if we just split a line into segments to search and segments to ignore first. \n",
    "\n",
    "But that has us going through the line twice. We can do it in one pass by keeping track of the segments we are in and the segments we are ignoring....\n",
    "\n",
    "Maybe we writre a custom character parser?! Ugh.... no...."
   ]
  },
  {
   "cell_type": "code",
   "execution_count": 2,
   "metadata": {},
   "outputs": [],
   "source": [
    "import re\n",
    "import logging\n",
    "logging.basicConfig(level=logging.DEBUG)\n",
    "logger = logging.getLogger()\n",
    "\n",
    "# PART 1 SOLUTION\n",
    "PATTERN = r\"mul\\((\\d{1,3}),(\\d{1,3})\\)\"\n",
    "pattern = re.compile(PATTERN)\n",
    "\n",
    "def process_positive_segment(line):\n",
    "    logger.debug(f\"processing line: {line}\")\n",
    "    match = pattern.findall(line)\n",
    "    return sum([int(a)* int(b) for a,b in match])\n",
    "\n",
    "# PART 2 SOLUTION\n",
    "\n",
    "# state: symbol that toggles state\n",
    "state_map = {True: \"do()\", False: \"don't()\"}\n",
    "\n",
    "# state: function that should processes the segment\n",
    "state_fn_map = {True: process_positive_segment, \n",
    "                False: lambda x: 0 # ignore negative segments\n",
    "                } \n",
    "\n",
    "def process_line(segment, state=True):\n",
    "    # get the symbol that toggles the current state\n",
    "    toggler = state_map[not state]\n",
    "    logger.debug(f\"state: {state} toggler: {toggler}\")\n",
    "\n",
    "    # split the segment into two pieces using the toggler\n",
    "    pieces = segment.split(toggler, 1)\n",
    "    logger.debug(f\"pieces: {pieces}\")\n",
    "\n",
    "    # process the first piece according to the current state\n",
    "    sum = state_fn_map[state](pieces[0])\n",
    "\n",
    "    # if there is a second piece, process it with the opposite state since its been toggled\n",
    "    if len(pieces) > 1:\n",
    "        sum += process_line(pieces[1], not state)\n",
    "        \n",
    "    return sum"
   ]
  },
  {
   "cell_type": "markdown",
   "metadata": {},
   "source": [
    "### Example"
   ]
  },
  {
   "cell_type": "code",
   "execution_count": 3,
   "metadata": {},
   "outputs": [
    {
     "name": "stderr",
     "output_type": "stream",
     "text": [
      "DEBUG:root:state: True toggler: don't()\n",
      "DEBUG:root:pieces: ['dontmul(2,4) do() mul(3,7) do()mul(5,5) mul(32,64) mul(11,8) mul(8,5)']\n",
      "DEBUG:root:processing line: dontmul(2,4) do() mul(3,7) do()mul(5,5) mul(32,64) mul(11,8) mul(8,5)\n"
     ]
    },
    {
     "data": {
      "text/plain": [
       "2230"
      ]
     },
     "execution_count": 3,
     "metadata": {},
     "output_type": "execute_result"
    }
   ],
   "source": [
    "# reset the logger\n",
    "logger = logging.getLogger()\n",
    "while logger.hasHandlers():\n",
    "    logger.removeHandler(logger.handlers[0])\n",
    "logging.basicConfig(level=logging.DEBUG)\n",
    "\n",
    "# test the function\n",
    "line = \"xmul(2,4)&mul[3,7]!^don't()_mul(5,5)+mul(32,64](mul(11,8)undo()?mul(8,5))\"\n",
    "line = \"dontmul(2,4) do() mul(3,7) do()mul(5,5) mul(32,64) mul(11,8) mul(8,5)\"\n",
    "process_line(line)"
   ]
  },
  {
   "cell_type": "markdown",
   "metadata": {},
   "source": [
    "### Full problem"
   ]
  },
  {
   "cell_type": "code",
   "execution_count": 4,
   "metadata": {},
   "outputs": [
    {
     "data": {
      "text/plain": [
       "100450138"
      ]
     },
     "execution_count": 4,
     "metadata": {},
     "output_type": "execute_result"
    }
   ],
   "source": [
    "# reset the logger\n",
    "logger = logging.getLogger()\n",
    "while logger.hasHandlers():\n",
    "    logger.removeHandler(logger.handlers[0])\n",
    "logging.basicConfig(level=logging.INFO)\n",
    "\n",
    "\n",
    "# process the entire program\n",
    "with open('./data/day3_input.txt') as f:\n",
    "    program = f.read()\n",
    "\n",
    "running_sum = 0\n",
    "for line in [program]:\n",
    "    running_sum += process_line(line, True)\n",
    "running_sum"
   ]
  },
  {
   "cell_type": "markdown",
   "metadata": {},
   "source": [
    "## Notes\n",
    "\n",
    "I interpreted this \"program\" as processing each line independently! For Part 2, I got the wrong answer doing this! I had to make the whole program be a single line and didnt want to rewrite it so I just did a lazy:\n",
    "\n",
    "```python\n",
    "program = f.read() # not .readlines()\n",
    "...\n",
    "for line in [program]:\n",
    "```"
   ]
  },
  {
   "cell_type": "markdown",
   "metadata": {},
   "source": [
    "Also got to clean up the logger switching modes for next time."
   ]
  }
 ],
 "metadata": {
  "kernelspec": {
   "display_name": "aoc-2024-z8hdT0vu-py3.10",
   "language": "python",
   "name": "python3"
  },
  "language_info": {
   "codemirror_mode": {
    "name": "ipython",
    "version": 3
   },
   "file_extension": ".py",
   "mimetype": "text/x-python",
   "name": "python",
   "nbconvert_exporter": "python",
   "pygments_lexer": "ipython3",
   "version": "3.10.15"
  }
 },
 "nbformat": 4,
 "nbformat_minor": 2
}
